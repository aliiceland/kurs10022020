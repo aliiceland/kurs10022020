{
 "cells": [
  {
   "cell_type": "markdown",
   "metadata": {},
   "source": [
    "By zdefuniować funkcje posłuzymy się słowem kluczowym \n",
    "\n",
    "    def\n",
    "    \n",
    "po nim następuje nazwa i nawiasy, w których można określić jakie argumenty funkcja przyjmue\n",
    "\n",
    "    def moja_funkcja():\n",
    "        ciało funkcji"
   ]
  },
  {
   "cell_type": "code",
   "execution_count": 2,
   "metadata": {},
   "outputs": [],
   "source": [
    "def dodaj(a, b):\n",
    "    return a + b"
   ]
  },
  {
   "cell_type": "code",
   "execution_count": 3,
   "metadata": {},
   "outputs": [
    {
     "data": {
      "text/plain": [
       "30"
      ]
     },
     "execution_count": 3,
     "metadata": {},
     "output_type": "execute_result"
    }
   ],
   "source": [
    "dodaj(10, 20)"
   ]
  },
  {
   "cell_type": "code",
   "execution_count": 4,
   "metadata": {
    "scrolled": true
   },
   "outputs": [
    {
     "data": {
      "text/plain": [
       "['__add__',\n",
       " '__class__',\n",
       " '__contains__',\n",
       " '__delattr__',\n",
       " '__dir__',\n",
       " '__doc__',\n",
       " '__eq__',\n",
       " '__format__',\n",
       " '__ge__',\n",
       " '__getattribute__',\n",
       " '__getitem__',\n",
       " '__getnewargs__',\n",
       " '__gt__',\n",
       " '__hash__',\n",
       " '__init__',\n",
       " '__init_subclass__',\n",
       " '__iter__',\n",
       " '__le__',\n",
       " '__len__',\n",
       " '__lt__',\n",
       " '__mod__',\n",
       " '__mul__',\n",
       " '__ne__',\n",
       " '__new__',\n",
       " '__reduce__',\n",
       " '__reduce_ex__',\n",
       " '__repr__',\n",
       " '__rmod__',\n",
       " '__rmul__',\n",
       " '__setattr__',\n",
       " '__sizeof__',\n",
       " '__str__',\n",
       " '__subclasshook__',\n",
       " 'capitalize',\n",
       " 'casefold',\n",
       " 'center',\n",
       " 'count',\n",
       " 'encode',\n",
       " 'endswith',\n",
       " 'expandtabs',\n",
       " 'find',\n",
       " 'format',\n",
       " 'format_map',\n",
       " 'index',\n",
       " 'isalnum',\n",
       " 'isalpha',\n",
       " 'isascii',\n",
       " 'isdecimal',\n",
       " 'isdigit',\n",
       " 'isidentifier',\n",
       " 'islower',\n",
       " 'isnumeric',\n",
       " 'isprintable',\n",
       " 'isspace',\n",
       " 'istitle',\n",
       " 'isupper',\n",
       " 'join',\n",
       " 'ljust',\n",
       " 'lower',\n",
       " 'lstrip',\n",
       " 'maketrans',\n",
       " 'partition',\n",
       " 'replace',\n",
       " 'rfind',\n",
       " 'rindex',\n",
       " 'rjust',\n",
       " 'rpartition',\n",
       " 'rsplit',\n",
       " 'rstrip',\n",
       " 'split',\n",
       " 'splitlines',\n",
       " 'startswith',\n",
       " 'strip',\n",
       " 'swapcase',\n",
       " 'title',\n",
       " 'translate',\n",
       " 'upper',\n",
       " 'zfill']"
      ]
     },
     "execution_count": 4,
     "metadata": {},
     "output_type": "execute_result"
    }
   ],
   "source": [
    "dir(\"\")"
   ]
  },
  {
   "cell_type": "markdown",
   "metadata": {},
   "source": [
    "### Zad 1\n",
    "\n",
    "Zdefiniuj funkcję, która przyjmie jeden parametr - napis. Funkcja zwróci indeksy wielkich w tym napisie.\n",
    "Nazwa capital_letters\n",
    "przykład\n",
    "    \n",
    "    capital_letters(\"Ala mA\") == [0, 5]"
   ]
  },
  {
   "cell_type": "code",
   "execution_count": 9,
   "metadata": {},
   "outputs": [],
   "source": [
    "def capital_letters(text):\n",
    "    indexes = []\n",
    "    for i, letter in enumerate(text):\n",
    "        if letter.isupper():\n",
    "            indexes.append(i)\n",
    "    return indexes\n",
    "    \n",
    "def capital_letters(text):\n",
    "    return [i for i, l in enumerate(text) if l.isupper()]"
   ]
  },
  {
   "cell_type": "code",
   "execution_count": 10,
   "metadata": {},
   "outputs": [],
   "source": [
    "assert capital_letters(\"Ala mA\") == [0, 5]\n",
    "assert capital_letters(\"AAA\") == [0, 1, 2]"
   ]
  },
  {
   "cell_type": "markdown",
   "metadata": {},
   "source": [
    "## Zad 2\n",
    "\n",
    "Zdefiniuj funkcję `mid` która przyjmie jako parametr napis\n",
    "Jeśli napis ma środkową literę - to zwróci tę literę\n",
    "Jeśli napis nie ma środkowej litery (bo ma parzystą liczbę liter) to zwróci pusty napis `\"\"`"
   ]
  },
  {
   "cell_type": "code",
   "execution_count": 12,
   "metadata": {},
   "outputs": [
    {
     "data": {
      "text/plain": [
       "2"
      ]
     },
     "execution_count": 12,
     "metadata": {},
     "output_type": "execute_result"
    }
   ],
   "source": [
    "5 // 2"
   ]
  },
  {
   "cell_type": "code",
   "execution_count": 16,
   "metadata": {},
   "outputs": [
    {
     "data": {
      "text/plain": [
       "''"
      ]
     },
     "execution_count": 16,
     "metadata": {},
     "output_type": "execute_result"
    }
   ],
   "source": [
    "def mid(text):\n",
    "    if len(text) % 2 == 0:\n",
    "        return \"\"\n",
    "    return text[len(text) // 2]\n",
    "\n",
    "mid(\"adsa\")"
   ]
  },
  {
   "cell_type": "code",
   "execution_count": 14,
   "metadata": {},
   "outputs": [],
   "source": [
    "assert mid(\"ada\") == \"d\"\n",
    "assert mid(\"anna\") == \"\""
   ]
  },
  {
   "cell_type": "markdown",
   "metadata": {},
   "source": [
    "## Zad 3\n",
    "\n",
    "Napisz funkcję `is_prime`, która przyjmie jako argument liczbę i zwróci prawdę jeśli jest to liczba pierwsza\n",
    "w przeciwnym razie zwróci `False`"
   ]
  },
  {
   "cell_type": "code",
   "execution_count": null,
   "metadata": {},
   "outputs": [],
   "source": []
  },
  {
   "cell_type": "code",
   "execution_count": null,
   "metadata": {},
   "outputs": [],
   "source": [
    "assert is_prime(7) == True\n",
    "assert is_prime(15) ==  False"
   ]
  },
  {
   "cell_type": "markdown",
   "metadata": {},
   "source": [
    "Funkcje mogą przyjmować domyślne parametry\n"
   ]
  },
  {
   "cell_type": "code",
   "execution_count": 17,
   "metadata": {},
   "outputs": [
    {
     "data": {
      "text/plain": [
       "2"
      ]
     },
     "execution_count": 17,
     "metadata": {},
     "output_type": "execute_result"
    }
   ],
   "source": [
    "def add(x, step=1):\n",
    "    return x + step\n",
    "\n",
    "add(1)"
   ]
  },
  {
   "cell_type": "code",
   "execution_count": 18,
   "metadata": {},
   "outputs": [
    {
     "data": {
      "text/plain": [
       "11"
      ]
     },
     "execution_count": 18,
     "metadata": {},
     "output_type": "execute_result"
    }
   ],
   "source": [
    "add(1, 10)"
   ]
  },
  {
   "cell_type": "markdown",
   "metadata": {},
   "source": [
    "## Zad 4\n",
    "\n",
    "Zdefinij funkcję `count_between`, która będzie zliczała znaki pomiędzy znacznikami. Domyślne znaczniki to <>. Ale można wywołując funkcję podać inne. Znaczniki mogą być zagnieżdżone. Jeślu tak bedzie to trzeba policzyć znaki odpowiednio do poziomu zagłębienia.\n",
    "\n",
    "przykłady:\n",
    "\n",
    "    count_between(\"my little <pony> aaa\") == 4\n",
    "    count_between(\"my little <po<ny>>\") == 6\n",
    "    count_between(\"my little <po<ny>>\", \"[\", \"]\") == 0\n",
    "    count_between(\"my little [po[n[y]]\", \"[\", \"]\") == 7\n",
    "    \n",
    "        "
   ]
  },
  {
   "cell_type": "code",
   "execution_count": 43,
   "metadata": {},
   "outputs": [
    {
     "data": {
      "text/plain": [
       "4"
      ]
     },
     "execution_count": 43,
     "metadata": {},
     "output_type": "execute_result"
    }
   ],
   "source": [
    "def count_between(text, start=\"<\", end=\">\"):\n",
    "    licznik = 0\n",
    "    poziom = 0\n",
    "    for znak in text:\n",
    "        if znak == start:\n",
    "            poziom += 1\n",
    "        elif znak == end:\n",
    "            poziom -= 1\n",
    "        else:\n",
    "            licznik += poziom\n",
    "    return licznik\n",
    "            \n",
    "\n",
    "count_between(\"my little <pony> aaa\")"
   ]
  },
  {
   "cell_type": "code",
   "execution_count": 44,
   "metadata": {},
   "outputs": [],
   "source": [
    "assert count_between(\"my little pony aaa\") == 0\n",
    "assert count_between(\"my little <pony> aaa\") == 4\n",
    "assert count_between(\"my little <po<ny>> aaa\") == 6\n",
    "assert count_between(\"my little [po[ny]] aaa\", \"[\", \"]\") == 6\n"
   ]
  },
  {
   "cell_type": "markdown",
   "metadata": {},
   "source": [
    "#### args i kwargs czyli rozpakowywanie\n",
    "\n"
   ]
  },
  {
   "cell_type": "code",
   "execution_count": 50,
   "metadata": {},
   "outputs": [
    {
     "name": "stdout",
     "output_type": "stream",
     "text": [
      "(1, 1, 1, 2, 1)\n"
     ]
    },
    {
     "data": {
      "text/plain": [
       "6"
      ]
     },
     "execution_count": 50,
     "metadata": {},
     "output_type": "execute_result"
    }
   ],
   "source": [
    "def suma(*args):\n",
    "    print(args)\n",
    "    return sum(args)\n",
    "\n",
    "suma(1, 1, 1, 2, 1)"
   ]
  },
  {
   "cell_type": "code",
   "execution_count": 52,
   "metadata": {},
   "outputs": [
    {
     "name": "stdout",
     "output_type": "stream",
     "text": [
      "(1,)\n",
      "(1, 1)\n",
      "(1, 1, 1, 1, 1, 1, 1)\n"
     ]
    }
   ],
   "source": [
    "assert suma(1) == 1\n",
    "assert suma(1, 1) == 2\n",
    "assert suma(1, 1, 1, 1, 1, 1, 1 ) == 7\n",
    "# itd"
   ]
  },
  {
   "cell_type": "markdown",
   "metadata": {},
   "source": [
    "## zad 5\n",
    "\n",
    "Napisz funkcję, któa przyjmie dowolną ilość napisów i zwróci je\n",
    "połączone znakiem nowej linii (postaraj użyć metody join z napisu)"
   ]
  },
  {
   "cell_type": "code",
   "execution_count": 65,
   "metadata": {},
   "outputs": [],
   "source": [
    "def concatenate(*args):\n",
    "    return \"\\n\".join(args)"
   ]
  },
  {
   "cell_type": "code",
   "execution_count": 66,
   "metadata": {},
   "outputs": [],
   "source": [
    "assert concatenate(\"a\",\"b\",\"c\") == \"a\\nb\\nc\"\n",
    "assert concatenate(\"a\", \"b\") == \"a\\nb\""
   ]
  },
  {
   "cell_type": "code",
   "execution_count": 81,
   "metadata": {},
   "outputs": [],
   "source": [
    "def waga_imion(**kwargs):\n",
    "    print(kwargs)\n",
    "    \n",
    "    sorted_names = sorted(kwargs.items(), key=lambda x: x[1], reversed=True)\n",
    "    return sorted_names[0][0]\n",
    "    "
   ]
  },
  {
   "cell_type": "code",
   "execution_count": 83,
   "metadata": {},
   "outputs": [
    {
     "name": "stdout",
     "output_type": "stream",
     "text": [
      "Help on built-in function sorted in module builtins:\n",
      "\n",
      "sorted(iterable, /, *, key=None, reverse=False)\n",
      "    Return a new list containing all items from the iterable in ascending order.\n",
      "    \n",
      "    A custom key function can be supplied to customize the sort order, and the\n",
      "    reverse flag can be set to request the result in descending order.\n",
      "\n"
     ]
    }
   ],
   "source": [
    "help(sorted)"
   ]
  },
  {
   "cell_type": "code",
   "execution_count": 84,
   "metadata": {},
   "outputs": [],
   "source": [
    "sorted?"
   ]
  },
  {
   "cell_type": "code",
   "execution_count": 87,
   "metadata": {},
   "outputs": [
    {
     "data": {
      "text/plain": [
       "'a'"
      ]
     },
     "execution_count": 87,
     "metadata": {},
     "output_type": "execute_result"
    }
   ],
   "source": [
    "def second(x):\n",
    "    return x[1]\n",
    "\n",
    "sorted([(\"rafal\", 5), ('ania', 3), ('kamil', 15)], key=second)[0][0][0]"
   ]
  },
  {
   "cell_type": "code",
   "execution_count": 77,
   "metadata": {},
   "outputs": [
    {
     "data": {
      "text/plain": [
       "['c1', 'b2', 'a3']"
      ]
     },
     "execution_count": 77,
     "metadata": {},
     "output_type": "execute_result"
    }
   ],
   "source": [
    "sorted([\"c1\", \"a3\", \"b2\"], key=second)"
   ]
  },
  {
   "cell_type": "code",
   "execution_count": null,
   "metadata": {},
   "outputs": [],
   "source": [
    "sorted([\"c1\", \"a3\", \"b2\"], key=lambda x: x[1])"
   ]
  },
  {
   "cell_type": "code",
   "execution_count": 78,
   "metadata": {},
   "outputs": [
    {
     "data": {
      "text/plain": [
       "'3'"
      ]
     },
     "execution_count": 78,
     "metadata": {},
     "output_type": "execute_result"
    }
   ],
   "source": [
    "second = lambda x: x[1]\n",
    "second(\"a3\")"
   ]
  },
  {
   "cell_type": "code",
   "execution_count": 70,
   "metadata": {},
   "outputs": [
    {
     "name": "stdout",
     "output_type": "stream",
     "text": [
      "{'rafal': 5}\n"
     ]
    }
   ],
   "source": [
    "waga_imion(rafal=5)"
   ]
  },
  {
   "cell_type": "code",
   "execution_count": 82,
   "metadata": {},
   "outputs": [
    {
     "name": "stdout",
     "output_type": "stream",
     "text": [
      "{'rafal': 5, 'ania': 3, 'kamil': 15}\n"
     ]
    },
    {
     "data": {
      "text/plain": [
       "'ania'"
      ]
     },
     "execution_count": 82,
     "metadata": {},
     "output_type": "execute_result"
    }
   ],
   "source": [
    "waga_imion(rafal=5, ania=3, kamil=15)"
   ]
  },
  {
   "cell_type": "markdown",
   "metadata": {},
   "source": [
    "### zad 6\n",
    "\n",
    "Napisz funkcję `formatuj`, która przyjmie napis, oraz dowolną liczbę argumentów typu keyword\n",
    "\n",
    "Funkcja szuka wystpienia kluczy i zamienia je na wartości\n",
    "\n",
    "\n",
    "np: \n",
    "\n",
    "    formatuj(\"ala ma kota\", ala=\"Ola\", ma=\"miała\", kota=\"psa\") -> Ola miała psa"
   ]
  },
  {
   "cell_type": "markdown",
   "metadata": {},
   "source": [
    "## zad 7\n",
    "\n",
    "Napisz funkcję formatuj, która:\n",
    "\n",
    "1. Przyjmie dowolna liczę tekstów, złącza je\n",
    "2. Przymie dowolną liczbę argumentów keyword\n",
    "3. funckja zamienia w tekście $klucz na wartość i zwraca sformatowany text\n",
    "\n",
    "Np: \n",
    "\n",
    "    formatuj(\"koszt $cena PLN\", \"kwota $brutto PLN\", cena=200, brutto=246)\n",
    "\n"
   ]
  },
  {
   "cell_type": "code",
   "execution_count": null,
   "metadata": {},
   "outputs": [],
   "source": []
  }
 ],
 "metadata": {
  "kernelspec": {
   "display_name": "Python 3",
   "language": "python",
   "name": "python3"
  },
  "language_info": {
   "codemirror_mode": {
    "name": "ipython",
    "version": 3
   },
   "file_extension": ".py",
   "mimetype": "text/x-python",
   "name": "python",
   "nbconvert_exporter": "python",
   "pygments_lexer": "ipython3",
   "version": "3.7.6"
  }
 },
 "nbformat": 4,
 "nbformat_minor": 4
}
